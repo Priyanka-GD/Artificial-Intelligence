{
  "nbformat": 4,
  "nbformat_minor": 0,
  "metadata": {
    "colab": {
      "provenance": []
    },
    "kernelspec": {
      "name": "python3",
      "display_name": "Python 3"
    },
    "language_info": {
      "name": "python"
    }
  },
  "cells": [
    {
      "cell_type": "markdown",
      "source": [
        "In this homework, we will practice implementing a number of search and inference algorithms that we have covered in class.\n",
        "\n",
        "**Problem 1 [BFS - 35 pt].** Given a directed acyclic graph **G = (V, E)** and a set of nodes **X**, implement a BFS procedure to find all the nodes which are ancestors of nodes in **X**. Note that the graph is directed acyclic so it has no loop by definition. The input-output format and definition of this procedure is described below."
      ],
      "metadata": {
        "id": "TLxknv49jAwB"
      }
    },
    {
      "cell_type": "markdown",
      "source": [
        "**Input representation:**\n",
        "\n",
        "1. The graph is represented as a nested list **A** in which **A[$i$]** is a list of children of node $i$ where $i \\in [0, n-1]$. See the example below.\n",
        "\n"
      ],
      "metadata": {
        "id": "uDAPvPOJmzxE"
      }
    },
    {
      "cell_type": "code",
      "source": [
        "A = [[1], [2, 3], [3, 4], [], []]\n",
        "n = len(A)\n",
        "print(\"The total no. of nodes = {}\".format(n))\n",
        "for i in range(n):\n",
        "    print(\"Children of node {} = {}\".format(i, A[i]))"
      ],
      "metadata": {
        "id": "mBHqeatWm0zc"
      },
      "execution_count": null,
      "outputs": []
    },
    {
      "cell_type": "markdown",
      "source": [
        "2. The set of nodes **X** is represented as a non-empty list X containing (non-duplicate) numbers within $[0, n]$"
      ],
      "metadata": {
        "id": "WUx45GBXm3a1"
      }
    },
    {
      "cell_type": "code",
      "source": [
        "X = [2, 4]"
      ],
      "metadata": {
        "id": "AljR5EVCm9SU"
      },
      "execution_count": null,
      "outputs": []
    },
    {
      "cell_type": "markdown",
      "source": [
        "**Output definition and representation:**\n",
        "\n",
        "1. The ancestors of **X** are nodes whose can reach nodes in **X** using the directed edges of the graph. The ancestors of **X** also includes nodes in **X** themselves. For example, ancestor([1, 2]) = [0, 1, 2], ancestor([4]) = [0,1,2,4].\n",
        "\n",
        "2. Our task is to write a BFS search function that return the list of ancestors of nodes in **X** given the graph G represented with **A** above. The function definition is given below."
      ],
      "metadata": {
        "id": "Hr417ny4m_T8"
      }
    },
    {
      "cell_type": "code",
      "source": [
        "from typing import List\n",
        "\n",
        "def initialize(X : List):  # initialize the frontier/explored tables given X\n",
        "    frontier, explored = [], set([])\n",
        "    \n",
        "    # # #\n",
        "    # insert code here\n",
        "    # # #\n",
        "    \n",
        "    return frontier, explored\n",
        "\n",
        "def get_top(frontier):  # remove and return the top element from the frontier\n",
        "    top_node = 0\n",
        "\n",
        "    # # #\n",
        "    # insert code here\n",
        "    # # #\n",
        "\n",
        "    return top_node\n",
        "\n",
        "def update(res, node):  # update result given current node\n",
        "    # # #\n",
        "    # insert code here\n",
        "    # # #\n",
        "    return res\n",
        "    \n",
        "def generate_candidate(node):\n",
        "    # # #\n",
        "    # insert code here\n",
        "    # # #\n",
        "    return None\n",
        "\n",
        "def incorporate(frontier, explored, reachables):\n",
        "    # # #\n",
        "    # insert code here\n",
        "    # # #\n",
        "    return None\n",
        "\n",
        "def ancestor(A : List, X : List) -> List:\n",
        "    # initialize the frontier and explored tables\n",
        "    frontier, explored = initialize(X)  # initialize frontier and explored tables\n",
        "    res = []  # this is the list of ancestors\n",
        "    \n",
        "    while len(frontier) > 0: \n",
        "        node = get_top(frontier)   # as we are populating the frontier with discovered ancestor of X, any node taken out of the frontier is an ancestor\n",
        "        res = update(res, node)  # add this ancestor to the list of ancestor so far\n",
        "        reachables = generate_candidate(node)  # explore the immediate parents of \"node\" -- by extension, these are ancestors of X too\n",
        "        frontier, explored = incorporate(frontier, explored, reachables)  # add the reachables to frontier & explored: put unexplored nodes on frontier -- do not forget to mark \"node\" as explored \n",
        "\n",
        "    return res  # return result: a list of nodes which are ancestors of at least one node in X -- e.g. given A above, ancestor(A, [1, 2]) should return [0, 1, 2] -- the order of nodes within the list does not matter"
      ],
      "metadata": {
        "id": "lBBf1AzEnCL0"
      },
      "execution_count": null,
      "outputs": []
    },
    {
      "cell_type": "markdown",
      "source": [
        "**How we grade this question:**\n",
        "\n",
        "1. You are expected to substantiate the above **ancestor** function without changing its input and output definition. \n",
        "\n",
        "2. You will not be graded if you change the input-output definition or name of **ancestor**\n",
        "\n",
        "3. The rest of the code skeleton is for reference only. You can follow, adapt or remove it completely as long as the function **ancestor** produces the expected answer. \n",
        "\n",
        "4. Your substantiated **ancestor** function will be called by the TA to produce answer to a number of test cases. Your grade is computed based on how many cases your code answers correctly.\n",
        "\n",
        "5. Substantiating the suggested code skeleton does not necessarily guarantee you any partial credit if your **ancestor** function crashes, does not produce correct answer or fails to do so within the time limit of maximum 5 seconds per test case.\n",
        "\n",
        "6. You should test your code thoroughly and carefully before submitting it to make sure it will not crash and at least produce correct answers for your own test cases.\n",
        "\n",
        "**Note that:**\n",
        "\n",
        "The ancestors of **X** (by definition) include **X**, parents of **X** and grandparents of **X** and grand-grandparents of **X** and so on. This should give you an idea of what should be the candidates to be generated for each node."
      ],
      "metadata": {
        "id": "g4nWvzLnturN"
      }
    },
    {
      "cell_type": "markdown",
      "source": [
        "\n",
        "\n",
        "---\n",
        "\n"
      ],
      "metadata": {
        "id": "7sKtBamb1bLe"
      }
    },
    {
      "cell_type": "markdown",
      "source": [
        "**Problem 2 [DFS - 15pt]**. Given a directed graph in the same format as describe above. \n",
        "\n",
        "Write a program that check whether the graph is acyclic (i.e., it contains no cycle)."
      ],
      "metadata": {
        "id": "wpKuOndXxUMD"
      }
    },
    {
      "cell_type": "code",
      "source": [
        "from typing import List\n",
        "\n",
        "def cyclic_check(A: List) -> bool:  # return True if the graph A contains cycle; otherwise, return False\n",
        "    # # #\n",
        "    # insert code here\n",
        "    # # #\n",
        "    return False"
      ],
      "metadata": {
        "id": "53ee4w_7xeWz"
      },
      "execution_count": null,
      "outputs": []
    },
    {
      "cell_type": "markdown",
      "source": [
        "Example of a graph that contains cycle:"
      ],
      "metadata": {
        "id": "rqOZpryvyc9A"
      }
    },
    {
      "cell_type": "code",
      "source": [
        "A = [[1, 3], [4], [1], [4], [5], [2]]"
      ],
      "metadata": {
        "id": "QvaJP4chygA_"
      },
      "execution_count": null,
      "outputs": []
    },
    {
      "cell_type": "markdown",
      "source": [
        "Thus, **cyclic_check**(A) should return True in this case."
      ],
      "metadata": {
        "id": "zihFEQJn1S8A"
      }
    },
    {
      "cell_type": "markdown",
      "source": [
        "**How we grade this question:**\n",
        "\n",
        "1. You are expected to substantiate the above **cyclic_check** function without changing its input and output definition. \n",
        "\n",
        "2. You will not be graded if you change the input-output definition or name of **cyclic_check**\n",
        "\n",
        "3. Your substantiated **cyclic_check** function will be called by the TA to produce answers to a number of test cases. Your grade is computed based on how many cases your code answers correctly.\n",
        "\n",
        "4. Substantiating the code does not necessarily guarantee you any partial credit if your **cyclic_check** function crashes, does not produce correct answer or fails to do so within the time limit of maximum 5 seconds per test case.\n",
        "\n",
        "5. You should test your code thoroughly and carefully before submitting it to make sure it will not crash and at least produce correct answers for your own test cases.\n",
        "\n",
        "**Hint:**\n",
        "\n",
        "A directed graph contains a cycle if the DFS search sees a node that has been explored but not all of its descendants have been explored."
      ],
      "metadata": {
        "id": "6uDVCuV7yzud"
      }
    },
    {
      "cell_type": "markdown",
      "source": [
        "\n",
        "\n",
        "---\n",
        "\n"
      ],
      "metadata": {
        "id": "AA1zQ5-l1hG2"
      }
    },
    {
      "cell_type": "markdown",
      "source": [
        "**Problem 3 [Bayes Ball Algorithm - 25pt].** Implement the Bayes Ball algorithm which finds in a directed acyclic graph G all variables **Z** that are independent of a set of source variables **X** given the evidence nodes **E**.\n",
        "\n",
        "The graph G is represented using the nested list **A** as detailed above. \n",
        "\n",
        "**X**, **E** and **Z** are lists of nodes which are indexed from $0$ to $n - 1$. The function template is defined below. You can assume that **X**, **E** and **Z** are always non-overlapping."
      ],
      "metadata": {
        "id": "XnNn4Tks0CrK"
      }
    },
    {
      "cell_type": "markdown",
      "source": [
        "Here is an example:"
      ],
      "metadata": {
        "id": "d981Ks1M0J5i"
      }
    },
    {
      "cell_type": "code",
      "source": [
        "A = [[1, 3], [4], [1], [4], [5], []]\n",
        "X, E = [3], [0]"
      ],
      "metadata": {
        "id": "7DXp-g_n0MSJ"
      },
      "execution_count": null,
      "outputs": []
    },
    {
      "cell_type": "markdown",
      "source": [
        "In the above example, **X** = [3] is independent with each node in **Z** = [1, 2] given **E** = [0]. Thus, the substantiated function bayes_ball(A, [3], [0]) is expected to return [1,2] -- the order of nodes within the returned list does not matter."
      ],
      "metadata": {
        "id": "R_tCteZD0Pty"
      }
    },
    {
      "cell_type": "code",
      "source": [
        "def bayes_ball(A : List, X : List, E : List) -> List :\n",
        "    ans = set(ancestor(A, E))  # create ancestor of E\n",
        "    frontier, explored = [], set([])  # initialize frontier and explored tables\n",
        "    \n",
        "    reachable = set([])\n",
        "    E = set(E)\n",
        "\n",
        "    # # #\n",
        "    # insert code here to initialize frontier, explored\n",
        "    # # #\n",
        "\n",
        "    while len(frontier) > 0:\n",
        "        node, direction = frontier[0]\n",
        "        frontier.pop(0)\n",
        "        reachable.add(node)\n",
        "\n",
        "        if node in E:  # if this node is observed\n",
        "            if direction == 0:  # if it is reached by moving upstream from a child (direction = from-child)\n",
        "                pass  # remove this and substantiate code (generate candidates, update frontier/explored/reachable)\n",
        "            else:  # if direction = from-parent        \n",
        "                pass  # remove this and substantiate code (generate candidates, update frontier/explored/reachable)\n",
        "\n",
        "        else:  # if this node is unobserved\n",
        "            if direction == 0:  # if it is reached by moving upstream from a child (direction = from-child)\n",
        "                pass  # remove this and substantiate code (generate candidates, update frontier/explored/reachable)\n",
        "            else:\n",
        "                pass  # remove this and substantiate code (generate candidates, update frontier/explored/reachable)\n",
        "        \n",
        "    # # #\n",
        "    # insert code here to compute unreachable nodes given the reachable list above\n",
        "    # # #\n",
        "\n",
        "    return None  # replace None with the set of unreachable nodes computed above"
      ],
      "metadata": {
        "id": "1OM5KlKE2N38"
      },
      "execution_count": null,
      "outputs": []
    },
    {
      "cell_type": "markdown",
      "source": [
        "**How we grade this question:**\n",
        "\n",
        "1. You are expected to substantiate the above **bayes_ball** function without changing its input and output definition. \n",
        "\n",
        "2. You will not be graded if you change the input-output definition or name of **bayes_ball**\n",
        "\n",
        "3. Your substantiated **bayes_ball** function will be called by the TA to produce answers to a number of test cases. Your grade is computed based on how many cases your code answers correctly.\n",
        "\n",
        "4. Substantiating the code does not necessarily guarantee you any partial credit if your **bayes_ball** function crashes, does not produce correct answer or fails to do so within the time limit of maximum 5 seconds per test case.\n",
        "\n",
        "5. You should test your code thoroughly and carefully before submitting it to make sure it will not crash and at least produce correct answers for your own test cases."
      ],
      "metadata": {
        "id": "nuXEM_SS34EY"
      }
    },
    {
      "cell_type": "markdown",
      "source": [
        "\n",
        "\n",
        "---\n",
        "\n"
      ],
      "metadata": {
        "id": "4KtwGMpfXR_c"
      }
    },
    {
      "cell_type": "markdown",
      "source": [
        "**Problem 4 [Probabilistic Reasoning -- 25pt].** Let $S_0, S_1, \\ldots, S_{n-1}$ and variables $X_0, X_1, \\ldots, X_{m-1}$ be the two sets of binary random variables such that $X_a \\perp X_b \\mid S_0, S_1, \\ldots, S_{n-1}$ for every pair $(a, b)$. \n",
        "\n",
        "Given the observed values $X_0 = x_0$, $X_1 = x_1$, ..., $X_{m-1} = x_{m-1}$, the prior probability $P(S_0, S_1, \\ldots, S_{n-1})$ and the conditional probabilities $P(X_i \\mid S_0, S_1, \\ldots, S_{n-1})$ for $i \\in [0, n - 1]$, write a program to compute the most likely values for $S_0, S_1, \\ldots, S_{n-1}$. See an example of the input-output representation below.\n",
        "\n",
        "**Hint:** Using Bayes rule, you should be able to compute $P(S_0, \\ldots, S_{n-1} | X_0, \\ldots, X_{m - 1}) \\propto P(X_0 \\ldots X_{m-1} | S_0, \\ldots, S_{n-1}) P(S_0, \\ldots, S_{n-1})$. Now, $P(S_0, \\ldots, S_{n-1})$ has been given -- refer to the variable CPTS in the example below -- so you need to figure out what is $P(X_0 \\ldots X_{m-1} | S_0, \\ldots, S_{n-1})$ and this is where you want to make use of the given conditional independence above to compute $P(X_0 \\ldots X_{m-1} | S_0, \\ldots, S_{n-1})$ in terms of $P(X_i | S_0, \\ldots, S_{n-1})$ for $i = 0, 1, \\ldots, m - 1$ which have also been given -- refer to the variable CPT[i] in the example below."
      ],
      "metadata": {
        "id": "NufmSdPV9mwa"
      }
    },
    {
      "cell_type": "code",
      "source": [
        "from typing import Dict, List\n",
        "\n",
        "def inference(m: int, n: int, X: List, Ps: Dict[str, float], Pxs: Dict[int, Dict[str, float]]) -> List[int] :\n",
        "    # # #\n",
        "    # insert code here to substantiate this\n",
        "    # # #\n",
        "    return [0] * n  # replace this with the actual result "
      ],
      "metadata": {
        "id": "s9xCGP9Wo2vH"
      },
      "execution_count": null,
      "outputs": []
    },
    {
      "cell_type": "markdown",
      "source": [
        "**Input Example**\n",
        "\n",
        "1. The prior probability $P(S_0, S_1, \\ldots, S_{n-1})$ is represented by a dictionary (with $2^n$ entries) mapping from a binary configuration of $(S_0, S_1, \\ldots, S_{n-1})$ to a number in $(0,1)$ -- see the CPTS dictionary below.\n",
        "2. Each conditional probability table $P(X_i = 1 \\mid S_0, S_1, \\ldots, S_{n-1})$ is represented by a dictionary (with $2^n$ entries) mapping from a binary configuration of $(S_0, S_1, \\ldots, S_{n-1})$ to $(0, 1)$, reflecting the conditional likelihood of $X_i = 1$ -- see the CPT[i] dictionary in the example below."
      ],
      "metadata": {
        "id": "zm04XIYgyPHI"
      }
    },
    {
      "cell_type": "code",
      "source": [
        "n, m = 3, 5\n",
        "\n",
        "X = [0, 0, 1, 0, 0]\n",
        "\n",
        "CPTS = {'000': 0.0029483374841282597, '001': 0.21655975865243066, '010': 0.009741791658102511, '011': 0.004396416434820812, '100': 0.14690857953281578, '101': 0.10442964963947308, '110': 0.09244430850469733, '111': 0.4225711580935315}  # P(S)\n",
        "CPT = {}\n",
        "\n",
        "CPT[0] = {'000': 0.2030970506369712, '001': 0.3488898852352653, '010': 0.5502799534069687, '011': 0.8116780058398033, '100': 0.8780276292367954, '101': 0.13639853016162218, '110': 0.25494090105549916, '111': 0.17343975131249711} # P(X_0 = 1 | S)\n",
        "CPT[1] = {'000': 0.3523359812177728, '001': 0.5084318707330855, '010': 0.8889353192318028, '011': 0.5192775644869685, '100': 0.22672669454081784, '101': 0.5803945046731775, '110': 0.5186851363449407, '111': 0.563088061119118} # P(X_1 = 1 | S)\n",
        "CPT[2] = {'000': 0.7560448918465935, '001': 0.6591799512712302, '010': 0.803089150479506, '011': 0.32072656535528443, '100': 0.9017673321979113, '101': 0.21612230050596615, '110': 0.3970404367134218, '111': 0.30886041650786145} # P(X_2 = 1 | S)\n",
        "CPT[3] = {'000': 0.407051181263091, '001': 0.9360805132893405, '010': 0.1723367416994004, '011': 0.6788601067797836, '100': 0.15069804971864342, '101': 0.11500243160128079, '110': 0.440577342376775, '111': 0.467228843959817} # P(X_3 = 1 | S)\n",
        "CPT[4] = {'000': 0.22235699425981859, '001': 0.8058219255695106, '010': 0.9005755426968436, '011': 0.22563339748467282, '100': 0.18785985930345855, '101': 0.5069987371763072, '110': 0.7447588081219547, '111': 0.6663412077070303} # P(X_4 = 1 | S)"
      ],
      "metadata": {
        "id": "IuztAlhjzkB6"
      },
      "execution_count": null,
      "outputs": []
    },
    {
      "cell_type": "code",
      "source": [
        "res = [1, 0, 0]  # expected output of the above input"
      ],
      "metadata": {
        "colab": {
          "base_uri": "https://localhost:8080/"
        },
        "id": "YUscPNf6qN-5",
        "outputId": "2605009c-bd77-4351-bb65-34080adc0cfd"
      },
      "execution_count": null,
      "outputs": [
        {
          "output_type": "stream",
          "name": "stdout",
          "text": [
            "[1, 0, 0]\n"
          ]
        }
      ]
    },
    {
      "cell_type": "markdown",
      "source": [
        "**How we grade this question:**\n",
        "\n",
        "1. You are expected to substantiate the above **inference** function without changing its input and output definition. \n",
        "\n",
        "2. You will not be graded if you change the input-output definition or name of **inference**\n",
        "\n",
        "3. Your substantiated **inference** function will be called by the TA to produce answers to a number of test cases. Your grade is computed based on how many cases your code answers correctly.\n",
        "\n",
        "4. Substantiating the code does not necessarily guarantee you any partial credit if your **inference** function crashes, does not produce correct answer or fails to do so within the time limit of maximum 5 seconds per test case.\n",
        "\n",
        "5. You should test your code thoroughly and carefully before submitting it to make sure it will not crash and at least produce correct answers for your own test cases."
      ],
      "metadata": {
        "id": "aMglndSlXBIL"
      }
    }
  ]
}